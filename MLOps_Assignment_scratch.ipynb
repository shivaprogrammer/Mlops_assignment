{
  "nbformat": 4,
  "nbformat_minor": 0,
  "metadata": {
    "colab": {
      "provenance": []
    },
    "kernelspec": {
      "name": "python3",
      "display_name": "Python 3"
    },
    "language_info": {
      "name": "python"
    }
  },
  "cells": [
    {
      "cell_type": "code",
      "execution_count": 1,
      "metadata": {
        "colab": {
          "base_uri": "https://localhost:8080/"
        },
        "id": "hYXY2oSwZF81",
        "outputId": "3c64144a-36ab-4aa5-a702-26901d72737a"
      },
      "outputs": [
        {
          "output_type": "stream",
          "name": "stdout",
          "text": [
            "--2024-08-27 05:52:54--  https://archive.ics.uci.edu/static/public/275/bike+sharing+dataset.zip\n",
            "Resolving archive.ics.uci.edu (archive.ics.uci.edu)... 128.195.10.252\n",
            "Connecting to archive.ics.uci.edu (archive.ics.uci.edu)|128.195.10.252|:443... connected.\n",
            "HTTP request sent, awaiting response... 200 OK\n",
            "Length: unspecified\n",
            "Saving to: ‘bike+sharing+dataset.zip’\n",
            "\n",
            "bike+sharing+datase     [  <=>               ] 273.43K  1023KB/s    in 0.3s    \n",
            "\n",
            "2024-08-27 05:52:54 (1023 KB/s) - ‘bike+sharing+dataset.zip’ saved [279992]\n",
            "\n",
            "Archive:  bike+sharing+dataset.zip\n",
            "  inflating: Readme.txt              \n",
            "  inflating: day.csv                 \n",
            "  inflating: hour.csv                \n"
          ]
        }
      ],
      "source": [
        "!wget https://archive.ics.uci.edu/static/public/275/bike+sharing+dataset.zip\n",
        "!unzip bike+sharing+dataset.zip"
      ]
    },
    {
      "cell_type": "code",
      "source": [
        "pip install category_encoders\n"
      ],
      "metadata": {
        "colab": {
          "base_uri": "https://localhost:8080/"
        },
        "id": "ikTkN2u9Z1g7",
        "outputId": "02d3fac8-e487-496a-b8c2-ae593aeb570a"
      },
      "execution_count": 2,
      "outputs": [
        {
          "output_type": "stream",
          "name": "stdout",
          "text": [
            "Collecting category_encoders\n",
            "  Downloading category_encoders-2.6.3-py2.py3-none-any.whl.metadata (8.0 kB)\n",
            "Requirement already satisfied: numpy>=1.14.0 in /usr/local/lib/python3.10/dist-packages (from category_encoders) (1.26.4)\n",
            "Requirement already satisfied: scikit-learn>=0.20.0 in /usr/local/lib/python3.10/dist-packages (from category_encoders) (1.3.2)\n",
            "Requirement already satisfied: scipy>=1.0.0 in /usr/local/lib/python3.10/dist-packages (from category_encoders) (1.13.1)\n",
            "Requirement already satisfied: statsmodels>=0.9.0 in /usr/local/lib/python3.10/dist-packages (from category_encoders) (0.14.2)\n",
            "Requirement already satisfied: pandas>=1.0.5 in /usr/local/lib/python3.10/dist-packages (from category_encoders) (2.1.4)\n",
            "Requirement already satisfied: patsy>=0.5.1 in /usr/local/lib/python3.10/dist-packages (from category_encoders) (0.5.6)\n",
            "Requirement already satisfied: python-dateutil>=2.8.2 in /usr/local/lib/python3.10/dist-packages (from pandas>=1.0.5->category_encoders) (2.8.2)\n",
            "Requirement already satisfied: pytz>=2020.1 in /usr/local/lib/python3.10/dist-packages (from pandas>=1.0.5->category_encoders) (2024.1)\n",
            "Requirement already satisfied: tzdata>=2022.1 in /usr/local/lib/python3.10/dist-packages (from pandas>=1.0.5->category_encoders) (2024.1)\n",
            "Requirement already satisfied: six in /usr/local/lib/python3.10/dist-packages (from patsy>=0.5.1->category_encoders) (1.16.0)\n",
            "Requirement already satisfied: joblib>=1.1.1 in /usr/local/lib/python3.10/dist-packages (from scikit-learn>=0.20.0->category_encoders) (1.4.2)\n",
            "Requirement already satisfied: threadpoolctl>=2.0.0 in /usr/local/lib/python3.10/dist-packages (from scikit-learn>=0.20.0->category_encoders) (3.5.0)\n",
            "Requirement already satisfied: packaging>=21.3 in /usr/local/lib/python3.10/dist-packages (from statsmodels>=0.9.0->category_encoders) (24.1)\n",
            "Downloading category_encoders-2.6.3-py2.py3-none-any.whl (81 kB)\n",
            "\u001b[2K   \u001b[90m━━━━━━━━━━━━━━━━━━━━━━━━━━━━━━━━━━━━━━━━\u001b[0m \u001b[32m81.9/81.9 kB\u001b[0m \u001b[31m6.3 MB/s\u001b[0m eta \u001b[36m0:00:00\u001b[0m\n",
            "\u001b[?25hInstalling collected packages: category_encoders\n",
            "Successfully installed category_encoders-2.6.3\n"
          ]
        }
      ]
    },
    {
      "cell_type": "code",
      "source": [
        "import numpy as np\n",
        "import pandas as pd\n",
        "from sklearn.model_selection import train_test_split\n",
        "from sklearn.pipeline import Pipeline\n",
        "from sklearn.impute import SimpleImputer\n",
        "from sklearn.preprocessing import MinMaxScaler\n",
        "import category_encoders as ce\n",
        "\n",
        "\n",
        "class LinearRegressionFromScratch:\n",
        "    def __init__(self):\n",
        "        self.theta = None\n",
        "\n",
        "    def fit(self, X, y):\n",
        "        # Add a column of ones to X for the intercept term (bias)\n",
        "        X_b = np.c_[np.ones((X.shape[0], 1)), X]\n",
        "        # Calculate the coefficients using the normal equation\n",
        "        self.theta = np.linalg.inv(X_b.T.dot(X_b)).dot(X_b.T).dot(y)\n",
        "\n",
        "    def predict(self, X):\n",
        "        # Add a column of ones to X for the intercept term (bias)\n",
        "        X_b = np.c_[np.ones((X.shape[0], 1)), X]\n",
        "        return X_b.dot(self.theta)\n",
        "\n",
        "# Mean Squared Error from Scratch\n",
        "def mean_squared_error_scratch(y_true, y_pred):\n",
        "    mse = np.mean((y_true - y_pred) ** 2)\n",
        "    return mse\n",
        "\n",
        "# R-squared from Scratch\n",
        "def r2_score_scratch(y_true, y_pred):\n",
        "    total_sum_of_squares = np.sum((y_true - np.mean(y_true)) ** 2)\n",
        "    residual_sum_of_squares = np.sum((y_true - y_pred) ** 2)\n",
        "    r2 = 1 - (residual_sum_of_squares / total_sum_of_squares)\n",
        "    return r2\n",
        "\n",
        "# Load the dataset\n",
        "df = pd.read_csv('hour.csv')\n",
        "\n",
        "# Feature Engineering\n",
        "df['temp_hum'] = df['temp'] * df['hum']\n",
        "df['temp_windspeed'] = df['temp'] * df['windspeed']\n",
        "df['hum_windspeed'] = df['hum'] * df['windspeed']\n",
        "\n",
        "# Convert 'day_night' to binary: 1 for day, 0 for night\n",
        "df['day_night'] = df['hr'].apply(lambda x: 1 if 6 <= x <= 18 else 0)\n",
        "\n",
        "# Drop unnecessary columns\n",
        "df.drop(['instant', 'casual', 'registered', 'dteday'], axis=1, inplace=True)\n",
        "\n",
        "# Convert categorical variables\n",
        "df['season'] = df.season.astype('category')\n",
        "df['holiday'] = df.holiday.astype('category')\n",
        "df['weekday'] = df.weekday.astype('category')\n",
        "df['weathersit'] = df.weathersit.astype('category')\n",
        "df['workingday'] = df.workingday.astype('category')\n",
        "df['mnth'] = df.mnth.astype('category')\n",
        "df['yr'] = df.yr.astype('category')\n",
        "df['hr'] = df.hr.astype('category')\n",
        "\n",
        "# Separating features and target variable\n",
        "X = df.drop(columns=['cnt'])  # Features\n",
        "y = df['cnt']  # Target\n",
        "\n",
        "# Train-Test Split\n",
        "X_train, X_test, y_train, y_test = train_test_split(X, y, test_size=0.2, random_state=42)\n",
        "\n",
        "# Numerical and Categorical Features\n",
        "numerical_features = ['temp', 'hum', 'windspeed', 'temp_windspeed', 'temp_hum', 'hum_windspeed']\n",
        "categorical_features = ['season', 'weathersit', 'day_night']\n",
        "\n",
        "# Pipeline for numerical preprocessing\n",
        "numerical_pipeline = Pipeline([\n",
        "    ('imputer', SimpleImputer(strategy='mean')),  # Impute missing values with mean\n",
        "    ('scaler', MinMaxScaler())  # Normalize using MinMaxScaler\n",
        "])\n",
        "\n",
        "# Transform numerical features\n",
        "X_train[numerical_features] = numerical_pipeline.fit_transform(X_train[numerical_features])\n",
        "X_test[numerical_features] = numerical_pipeline.transform(X_test[numerical_features])\n",
        "\n",
        "# Pipeline for categorical encoding\n",
        "categorical_pipeline = Pipeline([\n",
        "    ('target_encoder', ce.TargetEncoder(cols=categorical_features))\n",
        "])\n",
        "\n",
        "# Encode categorical features\n",
        "X_train_encoded = categorical_pipeline.fit_transform(X_train[categorical_features], y_train)\n",
        "X_test_encoded = categorical_pipeline.transform(X_test[categorical_features])\n",
        "\n",
        "# Combine numerical and encoded features\n",
        "X_train_full = pd.concat([X_train[numerical_features].reset_index(drop=True), X_train_encoded.reset_index(drop=True)], axis=1)\n",
        "X_test_full = pd.concat([X_test[numerical_features].reset_index(drop=True), X_test_encoded.reset_index(drop=True)], axis=1)\n",
        "\n",
        "# Convert to numpy arrays\n",
        "X_train_np = X_train_full.values\n",
        "X_test_np = X_test_full.values\n",
        "y_train_np = y_train.values\n",
        "y_test_np = y_test.values\n",
        "\n",
        "# Train the Linear Regression model from scratch\n",
        "model_scratch = LinearRegressionFromScratch()\n",
        "model_scratch.fit(X_train_np, y_train_np)\n",
        "\n",
        "# Predict on the test set\n",
        "y_pred_scratch = model_scratch.predict(X_test_np)\n",
        "\n",
        "# Calculate Mean Squared Error and R-squared from scratch\n",
        "mse_scratch_custom = mean_squared_error_scratch(y_test_np, y_pred_scratch)\n",
        "r2_scratch_custom = r2_score_scratch(y_test_np, y_pred_scratch)\n",
        "\n",
        "# Print the custom implementation results\n",
        "print(f'Mean Squared Error (Scratch, Custom): {mse_scratch_custom}')\n",
        "print(f'R-squared (Scratch, Custom): {r2_scratch_custom}')\n"
      ],
      "metadata": {
        "colab": {
          "base_uri": "https://localhost:8080/"
        },
        "id": "9XkpUtEaZ5NN",
        "outputId": "84d9a2b0-b0f3-4c50-af95-a4d1bbfbba5d"
      },
      "execution_count": 5,
      "outputs": [
        {
          "output_type": "stream",
          "name": "stdout",
          "text": [
            "Mean Squared Error (Scratch, Custom): 19399.326598415304\n",
            "R-squared (Scratch, Custom): 0.38736540030096966\n"
          ]
        }
      ]
    },
    {
      "cell_type": "code",
      "source": [
        "final_pipeline = Pipeline([\n",
        "    ('num_preprocess', numerical_pipeline),\n",
        "    ('cat_preprocess', categorical_pipeline),\n",
        "    ('model', LinearRegressionFromScratch())\n",
        "])"
      ],
      "metadata": {
        "id": "t614LLTDbGVd"
      },
      "execution_count": 8,
      "outputs": []
    },
    {
      "cell_type": "code",
      "source": [
        "from sklearn import set_config\n",
        "set_config(display='diagram')  # To display the pipeline diagram\n",
        "final_pipeline"
      ],
      "metadata": {
        "colab": {
          "base_uri": "https://localhost:8080/",
          "height": 561
        },
        "id": "XPYVf2RWhXoM",
        "outputId": "f5e9c2b4-50b1-4068-a837-652b3e50a822"
      },
      "execution_count": 9,
      "outputs": [
        {
          "output_type": "execute_result",
          "data": {
            "text/plain": [
              "Pipeline(steps=[('num_preprocess',\n",
              "                 Pipeline(steps=[('imputer', SimpleImputer()),\n",
              "                                 ('scaler', MinMaxScaler())])),\n",
              "                ('cat_preprocess',\n",
              "                 Pipeline(steps=[('target_encoder',\n",
              "                                  TargetEncoder(cols=['season', 'weathersit',\n",
              "                                                      'day_night']))])),\n",
              "                ('model',\n",
              "                 <__main__.LinearRegressionFromScratch object at 0x7d8711f53e20>)])"
            ],
            "text/html": [
              "<style>#sk-container-id-1 {color: black;}#sk-container-id-1 pre{padding: 0;}#sk-container-id-1 div.sk-toggleable {background-color: white;}#sk-container-id-1 label.sk-toggleable__label {cursor: pointer;display: block;width: 100%;margin-bottom: 0;padding: 0.3em;box-sizing: border-box;text-align: center;}#sk-container-id-1 label.sk-toggleable__label-arrow:before {content: \"▸\";float: left;margin-right: 0.25em;color: #696969;}#sk-container-id-1 label.sk-toggleable__label-arrow:hover:before {color: black;}#sk-container-id-1 div.sk-estimator:hover label.sk-toggleable__label-arrow:before {color: black;}#sk-container-id-1 div.sk-toggleable__content {max-height: 0;max-width: 0;overflow: hidden;text-align: left;background-color: #f0f8ff;}#sk-container-id-1 div.sk-toggleable__content pre {margin: 0.2em;color: black;border-radius: 0.25em;background-color: #f0f8ff;}#sk-container-id-1 input.sk-toggleable__control:checked~div.sk-toggleable__content {max-height: 200px;max-width: 100%;overflow: auto;}#sk-container-id-1 input.sk-toggleable__control:checked~label.sk-toggleable__label-arrow:before {content: \"▾\";}#sk-container-id-1 div.sk-estimator input.sk-toggleable__control:checked~label.sk-toggleable__label {background-color: #d4ebff;}#sk-container-id-1 div.sk-label input.sk-toggleable__control:checked~label.sk-toggleable__label {background-color: #d4ebff;}#sk-container-id-1 input.sk-hidden--visually {border: 0;clip: rect(1px 1px 1px 1px);clip: rect(1px, 1px, 1px, 1px);height: 1px;margin: -1px;overflow: hidden;padding: 0;position: absolute;width: 1px;}#sk-container-id-1 div.sk-estimator {font-family: monospace;background-color: #f0f8ff;border: 1px dotted black;border-radius: 0.25em;box-sizing: border-box;margin-bottom: 0.5em;}#sk-container-id-1 div.sk-estimator:hover {background-color: #d4ebff;}#sk-container-id-1 div.sk-parallel-item::after {content: \"\";width: 100%;border-bottom: 1px solid gray;flex-grow: 1;}#sk-container-id-1 div.sk-label:hover label.sk-toggleable__label {background-color: #d4ebff;}#sk-container-id-1 div.sk-serial::before {content: \"\";position: absolute;border-left: 1px solid gray;box-sizing: border-box;top: 0;bottom: 0;left: 50%;z-index: 0;}#sk-container-id-1 div.sk-serial {display: flex;flex-direction: column;align-items: center;background-color: white;padding-right: 0.2em;padding-left: 0.2em;position: relative;}#sk-container-id-1 div.sk-item {position: relative;z-index: 1;}#sk-container-id-1 div.sk-parallel {display: flex;align-items: stretch;justify-content: center;background-color: white;position: relative;}#sk-container-id-1 div.sk-item::before, #sk-container-id-1 div.sk-parallel-item::before {content: \"\";position: absolute;border-left: 1px solid gray;box-sizing: border-box;top: 0;bottom: 0;left: 50%;z-index: -1;}#sk-container-id-1 div.sk-parallel-item {display: flex;flex-direction: column;z-index: 1;position: relative;background-color: white;}#sk-container-id-1 div.sk-parallel-item:first-child::after {align-self: flex-end;width: 50%;}#sk-container-id-1 div.sk-parallel-item:last-child::after {align-self: flex-start;width: 50%;}#sk-container-id-1 div.sk-parallel-item:only-child::after {width: 0;}#sk-container-id-1 div.sk-dashed-wrapped {border: 1px dashed gray;margin: 0 0.4em 0.5em 0.4em;box-sizing: border-box;padding-bottom: 0.4em;background-color: white;}#sk-container-id-1 div.sk-label label {font-family: monospace;font-weight: bold;display: inline-block;line-height: 1.2em;}#sk-container-id-1 div.sk-label-container {text-align: center;}#sk-container-id-1 div.sk-container {/* jupyter's `normalize.less` sets `[hidden] { display: none; }` but bootstrap.min.css set `[hidden] { display: none !important; }` so we also need the `!important` here to be able to override the default hidden behavior on the sphinx rendered scikit-learn.org. See: https://github.com/scikit-learn/scikit-learn/issues/21755 */display: inline-block !important;position: relative;}#sk-container-id-1 div.sk-text-repr-fallback {display: none;}</style><div id=\"sk-container-id-1\" class=\"sk-top-container\"><div class=\"sk-text-repr-fallback\"><pre>Pipeline(steps=[(&#x27;num_preprocess&#x27;,\n",
              "                 Pipeline(steps=[(&#x27;imputer&#x27;, SimpleImputer()),\n",
              "                                 (&#x27;scaler&#x27;, MinMaxScaler())])),\n",
              "                (&#x27;cat_preprocess&#x27;,\n",
              "                 Pipeline(steps=[(&#x27;target_encoder&#x27;,\n",
              "                                  TargetEncoder(cols=[&#x27;season&#x27;, &#x27;weathersit&#x27;,\n",
              "                                                      &#x27;day_night&#x27;]))])),\n",
              "                (&#x27;model&#x27;,\n",
              "                 &lt;__main__.LinearRegressionFromScratch object at 0x7d8711f53e20&gt;)])</pre><b>In a Jupyter environment, please rerun this cell to show the HTML representation or trust the notebook. <br />On GitHub, the HTML representation is unable to render, please try loading this page with nbviewer.org.</b></div><div class=\"sk-container\" hidden><div class=\"sk-item sk-dashed-wrapped\"><div class=\"sk-label-container\"><div class=\"sk-label sk-toggleable\"><input class=\"sk-toggleable__control sk-hidden--visually\" id=\"sk-estimator-id-1\" type=\"checkbox\" ><label for=\"sk-estimator-id-1\" class=\"sk-toggleable__label sk-toggleable__label-arrow\">Pipeline</label><div class=\"sk-toggleable__content\"><pre>Pipeline(steps=[(&#x27;num_preprocess&#x27;,\n",
              "                 Pipeline(steps=[(&#x27;imputer&#x27;, SimpleImputer()),\n",
              "                                 (&#x27;scaler&#x27;, MinMaxScaler())])),\n",
              "                (&#x27;cat_preprocess&#x27;,\n",
              "                 Pipeline(steps=[(&#x27;target_encoder&#x27;,\n",
              "                                  TargetEncoder(cols=[&#x27;season&#x27;, &#x27;weathersit&#x27;,\n",
              "                                                      &#x27;day_night&#x27;]))])),\n",
              "                (&#x27;model&#x27;,\n",
              "                 &lt;__main__.LinearRegressionFromScratch object at 0x7d8711f53e20&gt;)])</pre></div></div></div><div class=\"sk-serial\"><div class=\"sk-item\"><div class=\"sk-label-container\"><div class=\"sk-label sk-toggleable\"><input class=\"sk-toggleable__control sk-hidden--visually\" id=\"sk-estimator-id-2\" type=\"checkbox\" ><label for=\"sk-estimator-id-2\" class=\"sk-toggleable__label sk-toggleable__label-arrow\">num_preprocess: Pipeline</label><div class=\"sk-toggleable__content\"><pre>Pipeline(steps=[(&#x27;imputer&#x27;, SimpleImputer()), (&#x27;scaler&#x27;, MinMaxScaler())])</pre></div></div></div><div class=\"sk-serial\"><div class=\"sk-item\"><div class=\"sk-estimator sk-toggleable\"><input class=\"sk-toggleable__control sk-hidden--visually\" id=\"sk-estimator-id-3\" type=\"checkbox\" ><label for=\"sk-estimator-id-3\" class=\"sk-toggleable__label sk-toggleable__label-arrow\">SimpleImputer</label><div class=\"sk-toggleable__content\"><pre>SimpleImputer()</pre></div></div></div><div class=\"sk-item\"><div class=\"sk-estimator sk-toggleable\"><input class=\"sk-toggleable__control sk-hidden--visually\" id=\"sk-estimator-id-4\" type=\"checkbox\" ><label for=\"sk-estimator-id-4\" class=\"sk-toggleable__label sk-toggleable__label-arrow\">MinMaxScaler</label><div class=\"sk-toggleable__content\"><pre>MinMaxScaler()</pre></div></div></div></div></div><div class=\"sk-item\"><div class=\"sk-label-container\"><div class=\"sk-label sk-toggleable\"><input class=\"sk-toggleable__control sk-hidden--visually\" id=\"sk-estimator-id-5\" type=\"checkbox\" ><label for=\"sk-estimator-id-5\" class=\"sk-toggleable__label sk-toggleable__label-arrow\">cat_preprocess: Pipeline</label><div class=\"sk-toggleable__content\"><pre>Pipeline(steps=[(&#x27;target_encoder&#x27;,\n",
              "                 TargetEncoder(cols=[&#x27;season&#x27;, &#x27;weathersit&#x27;, &#x27;day_night&#x27;]))])</pre></div></div></div><div class=\"sk-serial\"><div class=\"sk-item\"><div class=\"sk-estimator sk-toggleable\"><input class=\"sk-toggleable__control sk-hidden--visually\" id=\"sk-estimator-id-6\" type=\"checkbox\" ><label for=\"sk-estimator-id-6\" class=\"sk-toggleable__label sk-toggleable__label-arrow\">TargetEncoder</label><div class=\"sk-toggleable__content\"><pre>TargetEncoder(cols=[&#x27;season&#x27;, &#x27;weathersit&#x27;, &#x27;day_night&#x27;])</pre></div></div></div></div></div><div class=\"sk-item\"><div class=\"sk-estimator sk-toggleable\"><input class=\"sk-toggleable__control sk-hidden--visually\" id=\"sk-estimator-id-7\" type=\"checkbox\" ><label for=\"sk-estimator-id-7\" class=\"sk-toggleable__label sk-toggleable__label-arrow\">LinearRegressionFromScratch</label><div class=\"sk-toggleable__content\"><pre>&lt;__main__.LinearRegressionFromScratch object at 0x7d8711f53e20&gt;</pre></div></div></div></div></div></div></div>"
            ]
          },
          "metadata": {},
          "execution_count": 9
        }
      ]
    }
  ]
}