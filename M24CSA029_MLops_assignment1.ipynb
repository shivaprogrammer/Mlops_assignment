{
  "nbformat": 4,
  "nbformat_minor": 0,
  "metadata": {
    "colab": {
      "provenance": []
    },
    "kernelspec": {
      "name": "python3",
      "display_name": "Python 3"
    },
    "language_info": {
      "name": "python"
    }
  },
  "cells": [
    {
      "cell_type": "markdown",
      "source": [
        "## MLOps Assignment 1"
      ],
      "metadata": {
        "id": "LlIGlcIiywyq"
      }
    },
    {
      "cell_type": "markdown",
      "source": [
        "Q1. Print multiplication table from 1 to 10"
      ],
      "metadata": {
        "id": "i3GplYoCqa89"
      }
    },
    {
      "cell_type": "code",
      "source": [
        "# Loop through numbers 1 to 10\n",
        "for i in range(1, 11):\n",
        "    for j in range(1, 11):\n",
        "        print(f\" {i}X{j}={i * j}\")\n",
        "\n",
        "    print()\n"
      ],
      "metadata": {
        "id": "Vfm5RBY0qbIs",
        "colab": {
          "base_uri": "https://localhost:8080/"
        },
        "outputId": "95d3e34b-b4bd-4a63-d5a6-b845be59209d"
      },
      "execution_count": 7,
      "outputs": [
        {
          "output_type": "stream",
          "name": "stdout",
          "text": [
            " 1X1=1\n",
            " 1X2=2\n",
            " 1X3=3\n",
            " 1X4=4\n",
            " 1X5=5\n",
            " 1X6=6\n",
            " 1X7=7\n",
            " 1X8=8\n",
            " 1X9=9\n",
            " 1X10=10\n",
            "\n",
            " 2X1=2\n",
            " 2X2=4\n",
            " 2X3=6\n",
            " 2X4=8\n",
            " 2X5=10\n",
            " 2X6=12\n",
            " 2X7=14\n",
            " 2X8=16\n",
            " 2X9=18\n",
            " 2X10=20\n",
            "\n",
            " 3X1=3\n",
            " 3X2=6\n",
            " 3X3=9\n",
            " 3X4=12\n",
            " 3X5=15\n",
            " 3X6=18\n",
            " 3X7=21\n",
            " 3X8=24\n",
            " 3X9=27\n",
            " 3X10=30\n",
            "\n",
            " 4X1=4\n",
            " 4X2=8\n",
            " 4X3=12\n",
            " 4X4=16\n",
            " 4X5=20\n",
            " 4X6=24\n",
            " 4X7=28\n",
            " 4X8=32\n",
            " 4X9=36\n",
            " 4X10=40\n",
            "\n",
            " 5X1=5\n",
            " 5X2=10\n",
            " 5X3=15\n",
            " 5X4=20\n",
            " 5X5=25\n",
            " 5X6=30\n",
            " 5X7=35\n",
            " 5X8=40\n",
            " 5X9=45\n",
            " 5X10=50\n",
            "\n",
            " 6X1=6\n",
            " 6X2=12\n",
            " 6X3=18\n",
            " 6X4=24\n",
            " 6X5=30\n",
            " 6X6=36\n",
            " 6X7=42\n",
            " 6X8=48\n",
            " 6X9=54\n",
            " 6X10=60\n",
            "\n",
            " 7X1=7\n",
            " 7X2=14\n",
            " 7X3=21\n",
            " 7X4=28\n",
            " 7X5=35\n",
            " 7X6=42\n",
            " 7X7=49\n",
            " 7X8=56\n",
            " 7X9=63\n",
            " 7X10=70\n",
            "\n",
            " 8X1=8\n",
            " 8X2=16\n",
            " 8X3=24\n",
            " 8X4=32\n",
            " 8X5=40\n",
            " 8X6=48\n",
            " 8X7=56\n",
            " 8X8=64\n",
            " 8X9=72\n",
            " 8X10=80\n",
            "\n",
            " 9X1=9\n",
            " 9X2=18\n",
            " 9X3=27\n",
            " 9X4=36\n",
            " 9X5=45\n",
            " 9X6=54\n",
            " 9X7=63\n",
            " 9X8=72\n",
            " 9X9=81\n",
            " 9X10=90\n",
            "\n",
            " 10X1=10\n",
            " 10X2=20\n",
            " 10X3=30\n",
            " 10X4=40\n",
            " 10X5=50\n",
            " 10X6=60\n",
            " 10X7=70\n",
            " 10X8=80\n",
            " 10X9=90\n",
            " 10X10=100\n",
            "\n"
          ]
        }
      ]
    },
    {
      "cell_type": "markdown",
      "source": [
        "Q2. Given two lists, l1 and l2, write a program to create a third list l3 by picking an odd-index element from the list l1 and even index elements from the list l2."
      ],
      "metadata": {
        "id": "kCxjfhGtiMFb"
      }
    },
    {
      "cell_type": "code",
      "source": [
        "\n",
        "l1 = list(map(int, input(\"Enter the elements of list l1 separated by spaces: \").split()))\n",
        "l2 = list(map(int, input(\"Enter the elements of list l2 separated by spaces: \").split()))\n",
        "\n",
        "\n",
        "l3 = []\n",
        "\n",
        "# Add odd-index elements from l1\n",
        "\n",
        "for i in range(1, len(l1), 2):\n",
        "    l3.append(l1[i])\n",
        "\n",
        "# Add even-index elements from l2\n",
        "for i in range(0, len(l2), 2):\n",
        "    l3.append(l2[i])\n",
        "\n",
        "print(\"List l3:\", l3)\n",
        "\n"
      ],
      "metadata": {
        "id": "r1lkQPN8iNSc",
        "colab": {
          "base_uri": "https://localhost:8080/"
        },
        "outputId": "051164fc-c695-4222-d9b5-4183ccfe6fb9"
      },
      "execution_count": 8,
      "outputs": [
        {
          "output_type": "stream",
          "name": "stdout",
          "text": [
            "Enter the elements of list l1 separated by spaces: 2 3 4 5 6 7\n",
            "Enter the elements of list l2 separated by spaces: 4 5 6 7 8 9\n",
            "List l3: [3, 5, 7, 4, 6, 8]\n"
          ]
        }
      ]
    },
    {
      "cell_type": "markdown",
      "source": [
        "Q3. Print a this pattern(*)\n",
        "\n",
        "    * * * * * * * *\n",
        "      * * * * * * *\n",
        "        * * * * * *\n",
        "          * * * * *\n",
        "            * * * *\n",
        "              * * *\n",
        "                * *\n",
        "                  *"
      ],
      "metadata": {
        "id": "GBb0FgtIq4YA"
      }
    },
    {
      "cell_type": "code",
      "source": [
        "def print_pattern():\n",
        "    n = int(input(\"Enter the number of rows: \"))\n",
        "    for i in range(n):\n",
        "        for j in range(2 * i + 1):\n",
        "            print(\" \", end=\"\")\n",
        "        for k in range(n - i):\n",
        "            print(\"* \", end=\"\")\n",
        "        print()\n",
        "\n",
        "print_pattern()\n",
        "\n",
        ""
      ],
      "metadata": {
        "id": "rfbGzuA3rcGs",
        "colab": {
          "base_uri": "https://localhost:8080/"
        },
        "outputId": "f3c03ca9-b5a1-407e-93dc-8cdb5caa78d8"
      },
      "execution_count": 9,
      "outputs": [
        {
          "output_type": "stream",
          "name": "stdout",
          "text": [
            "Enter the number of rows: 8\n",
            " * * * * * * * * \n",
            "   * * * * * * * \n",
            "     * * * * * * \n",
            "       * * * * * \n",
            "         * * * * \n",
            "           * * * \n",
            "             * * \n",
            "               * \n"
          ]
        }
      ]
    },
    {
      "cell_type": "markdown",
      "source": [
        "Q4. Create a function named `exponent(base, exp)` that returns an integer representing the result of raising `base` to the power of `exp`.\n",
        "`exp` is >0.\n",
        "\n",
        "base = 5\n",
        "exponent = 4\n",
        "\n",
        "5 raises to the power of 4 is: 625\n",
        "i.e. (5 *5 * 5 *5 = 625)"
      ],
      "metadata": {
        "id": "WIblh-z6s9me"
      }
    },
    {
      "cell_type": "code",
      "source": [
        "def exponent(base, exp):\n",
        "    result = 1\n",
        "    for i in range(exp):\n",
        "        result =result* base\n",
        "    return result\n",
        "\n",
        "\n",
        "base = int(input(\"Enter the base: \"))\n",
        "while True:\n",
        "    exp = int(input(\"Enter the exponent (e>0): \"))\n",
        "    if exp > 0:\n",
        "        break\n",
        "    else:\n",
        "        print(\"Exponent must be greater than 0. Please enter again.\")\n",
        "\n",
        "print(exponent(base, exp))\n"
      ],
      "metadata": {
        "id": "6-KKDQNWs8eQ",
        "colab": {
          "base_uri": "https://localhost:8080/"
        },
        "outputId": "87fb41c7-4482-453e-d916-3f4ab35d6248"
      },
      "execution_count": 10,
      "outputs": [
        {
          "output_type": "stream",
          "name": "stdout",
          "text": [
            "Enter the base: 8\n",
            "Enter the exponent (e>0): 2\n",
            "64\n"
          ]
        }
      ]
    },
    {
      "cell_type": "markdown",
      "source": [
        "Q5. Create a file named test.txt and insert the following content into it.\n",
        "\n",
        "    line1\n",
        "    line2\n",
        "    line3\n",
        "    line4\n",
        "    line5\n",
        "    line6\n",
        "    line7\n",
        "\n",
        "Write a program which write all content of a given file (test.txt) into a new file by skipping line number 5 (line5)"
      ],
      "metadata": {
        "id": "_QUrD8h6t6PN"
      }
    },
    {
      "cell_type": "code",
      "source": [
        "#create and write text in file\n",
        "with open(\"test.txt\", \"w\") as f:\n",
        "    f.write(\"line1\\nline2\\nline3\\nline4\\nline5\\nline6\\nline7\")\n",
        "\n",
        "with open(\"test.txt\", \"r\") as f:\n",
        "    lines = f.readlines()\n",
        "\n",
        "with open(\"new_test.txt\", \"w\") as f:\n",
        "    for i, line in enumerate(lines):\n",
        "        if i != 4:\n",
        "            f.write(line)"
      ],
      "metadata": {
        "id": "I2KF1QHKrq-s"
      },
      "execution_count": 6,
      "outputs": []
    },
    {
      "cell_type": "markdown",
      "source": [
        "Q6. Write a program which receives three names from the user in a single input() function call.\n",
        "\n",
        "    Input: IIT JODHPUR RAJASTHAN\n",
        "\n",
        "    Output:\n",
        "    IIT\n",
        "    JODHPUR\n",
        "    RAJASTHAN"
      ],
      "metadata": {
        "id": "6cdAt0ONvMVI"
      }
    },
    {
      "cell_type": "code",
      "source": [
        "input_string = input(\"Enter three names separated by spaces: \")\n",
        "names = input_string.split()\n",
        "for name in names:\n",
        "    print(name)"
      ],
      "metadata": {
        "id": "Mo0wyeB6vJJm",
        "colab": {
          "base_uri": "https://localhost:8080/"
        },
        "outputId": "5a5c7b89-582b-40a4-828e-36ff4351f091"
      },
      "execution_count": 12,
      "outputs": [
        {
          "output_type": "stream",
          "name": "stdout",
          "text": [
            "Enter three names separated by spaces: IIT JODHPUR RAJASTHAN\n",
            "IIT\n",
            "JODHPUR\n",
            "RAJASTHAN\n"
          ]
        }
      ]
    },
    {
      "cell_type": "markdown",
      "source": [
        "Q7. Write a program to define a function called show_employee() with the following requirements:\n",
        "\n",
        "*   It should take the employee's name and salary as input and display both.\n",
        "*   If the salary is not provided in the function call, assign a default value of 9000 to it.\n",
        "\n",
        "After passing:\n",
        "\n",
        "showEmployee(\"Bill Gates\", 12000)\n",
        "\n",
        "showEmployee(\"Elon Musk\")\n",
        "\n",
        "It should print:\n",
        "\n",
        "Name: Bill Gates salary: 12000\n",
        "\n",
        "Name: Elon Musk salary: 9000"
      ],
      "metadata": {
        "id": "jwSKpPcYv_De"
      }
    },
    {
      "cell_type": "code",
      "source": [
        "def show_emplyee(name, salary=9000):\n",
        "    print(f\"Name: {name} salary: {salary}\")\n",
        "\n",
        "employee_name = input(\"Enter employee name: \")\n",
        "salary = input(\"Enter employee salary: \")\n",
        "if salary:\n",
        "    show_emplyee(employee_name, int(salary))\n",
        "else:\n",
        "    show_emplyee(employee_name)"
      ],
      "metadata": {
        "id": "yyzhkF1Lv94j",
        "colab": {
          "base_uri": "https://localhost:8080/"
        },
        "outputId": "e8f6d3ed-5932-462e-f33f-3433607cc80a"
      },
      "execution_count": 13,
      "outputs": [
        {
          "output_type": "stream",
          "name": "stdout",
          "text": [
            "Enter employee name: Bill Gates\n",
            "Enter employee salary: \n",
            "Name: Bill Gates salary: 9000\n"
          ]
        }
      ]
    },
    {
      "cell_type": "markdown",
      "source": [
        "Q8. Write a program to identify words that contain both letters and digits from a given input string.\n",
        "\n",
        "    Given str1 = \"Harry25 is Gryffindor Wizard50 and cursed\"\n",
        "\n",
        "    Output:\n",
        "    Harry25\n",
        "    Wizard50"
      ],
      "metadata": {
        "id": "BAtCQH3pxXWV"
      }
    },
    {
      "cell_type": "code",
      "source": [
        "def word_with_letters_and_digits(str1):\n",
        "    words = str1.split()\n",
        "    for word in words:\n",
        "        if any(char.isalpha() for char in word) and any(char.isdigit() for char in word):\n",
        "            print(word)\n",
        "\n",
        "str1 = input(\"Enter a string: \")\n",
        "word_with_letters_and_digits(str1)"
      ],
      "metadata": {
        "id": "bqbyxYdqvJHY",
        "colab": {
          "base_uri": "https://localhost:8080/"
        },
        "outputId": "87ee478e-1281-4c9a-9bec-97eff449aaf1"
      },
      "execution_count": 14,
      "outputs": [
        {
          "output_type": "stream",
          "name": "stdout",
          "text": [
            "Enter a string: Harry25 is a good boy\n",
            "Harry25\n"
          ]
        }
      ]
    },
    {
      "cell_type": "markdown",
      "source": [
        "Q9. Write a program to substitute each special character in the given string with the symbol #.\n",
        "\n",
        "    Given: str1 = '/*Modi is @Politician & Melony!!'\n",
        "\n",
        "    Output: ##Modi is #Politician # Melony##"
      ],
      "metadata": {
        "id": "Ev6TIw7oyGzJ"
      }
    },
    {
      "cell_type": "code",
      "source": [
        "def replace_special_characters(str1):\n",
        "    result = []\n",
        "    for char in str1:\n",
        "        if char.isalnum() or char.isspace():\n",
        "            result.append(char)\n",
        "        else:\n",
        "            result.append('#')\n",
        "    return ''.join(result)\n",
        "\n",
        "str1 = input(\"Enter a string: \")\n",
        "print(replace_special_characters(str1))\n",
        "\n",
        "\n"
      ],
      "metadata": {
        "id": "Hbg92hJtvJE7",
        "colab": {
          "base_uri": "https://localhost:8080/"
        },
        "outputId": "f960d558-83d3-471e-b382-9fb8c2d70c3b"
      },
      "execution_count": 15,
      "outputs": [
        {
          "output_type": "stream",
          "name": "stdout",
          "text": [
            "Enter a string: *Modi is @Politician & Melony!!\n",
            "#Modi is #Politician # Melony##\n"
          ]
        }
      ]
    },
    {
      "cell_type": "markdown",
      "source": [
        "Q10. Construct a Python set that displays elements from both lists as pairs.\n",
        "\n",
        "    Given:\n",
        "\n",
        "    first_list = [2, 3, 4, 5, 6, 7, 8]\n",
        "    second_list = [4, 9, 16, 25, 36, 49, 64]\n",
        "    Output: Result is  {(6, 36), (8, 64), (4, 16), (5, 25), (3, 9), (7, 49), (2, 4)}"
      ],
      "metadata": {
        "id": "L9zg8k_XyoMz"
      }
    },
    {
      "cell_type": "code",
      "source": [
        "def construct_pairs(first_list, second_list):\n",
        "    result = set()\n",
        "    for num1 in first_list:\n",
        "        for num2 in second_list:\n",
        "            if num1 * num1 == num2:\n",
        "                result.add((num1, num2))\n",
        "    return result\n",
        "l1 = input(\"Enter first list: \")\n",
        "l2 = input(\"Enter second list: \")\n",
        "first_list = list(map(int, l1.split()))\n",
        "second_list = list(map(int, l2.split()))\n",
        "print(construct_pairs(first_list, second_list))"
      ],
      "metadata": {
        "id": "aSBw6V0OvJCS",
        "colab": {
          "base_uri": "https://localhost:8080/"
        },
        "outputId": "9863e505-2fb6-4f6a-d568-878ec873b1c1"
      },
      "execution_count": 16,
      "outputs": [
        {
          "output_type": "stream",
          "name": "stdout",
          "text": [
            "Enter first list: 2 3 4 5 6 7 8 \n",
            "Enter second list: 4 9 16 25 36 49 64\n",
            "{(7, 49), (2, 4), (4, 16), (8, 64), (6, 36), (3, 9), (5, 25)}\n"
          ]
        }
      ]
    },
    {
      "cell_type": "markdown",
      "source": [
        "Q11. Define two set A and B consisting of 5 elements. Now print the element after performing\n",
        "\n",
        "\n",
        "      1.   A-B\n",
        "      2.   B-A\n",
        "      3.   A∩B\n",
        "      4.   A∪B\n",
        "\n",
        "\n"
      ],
      "metadata": {
        "id": "JHa0SMOozZo9"
      }
    },
    {
      "cell_type": "code",
      "source": [
        "A = {3, 4, 5, 7, 9}\n",
        "B = {4, 3, 6, 7, 8}\n",
        "print(A - B)\n",
        "print(B - A)\n",
        "print(A & B)\n",
        "print(A | B)\n"
      ],
      "metadata": {
        "id": "r9vL1bpHzZGg",
        "colab": {
          "base_uri": "https://localhost:8080/"
        },
        "outputId": "f30fd24b-0815-46ea-8222-ddb6d133316f"
      },
      "execution_count": 17,
      "outputs": [
        {
          "output_type": "stream",
          "name": "stdout",
          "text": [
            "{9, 5}\n",
            "{8, 6}\n",
            "{3, 4, 7}\n",
            "{3, 4, 5, 6, 7, 8, 9}\n"
          ]
        }
      ]
    },
    {
      "cell_type": "markdown",
      "source": [
        "## Object Oriented Programming Exercise 1:\n",
        "\n",
        "[Classes and Objects in Python](https://pynative.com/python-classes-and-objects/)\n",
        "\n",
        "[Instance variables in Python](https://pynative.com/python-instance-variables/)"
      ],
      "metadata": {
        "id": "UFjTtL_i00dz"
      }
    },
    {
      "cell_type": "markdown",
      "source": [
        "Q12. Create a Vehicle class with max_speed and mileage instance attributes."
      ],
      "metadata": {
        "id": "-PQELvq41z5B"
      }
    },
    {
      "cell_type": "code",
      "source": [
        "class Vehicle:\n",
        "    def __init__(self, max_speed, mileage):\n",
        "        self.max_speed = max_speed\n",
        "        self.mileage = mileage\n",
        "    def display(self):\n",
        "        return f\"Max speed: {self.max_speed} Mileage: {self.mileage}\"\n",
        ""
      ],
      "metadata": {
        "id": "Wa16l5-C0z3Z"
      },
      "execution_count": 18,
      "outputs": []
    },
    {
      "cell_type": "markdown",
      "source": [
        "Q13. Create a child class Bus that will inherit all of the variables and methods of the Vehicle class.\n",
        "\n",
        "Create a Bus object that will inherit all of the variables and methods of the parent Vehicle class and display it."
      ],
      "metadata": {
        "id": "-Japqg35177L"
      }
    },
    {
      "cell_type": "code",
      "source": [
        "class Vehicle:\n",
        "    def __init__(self, max_speed, mileage):\n",
        "        self.max_speed = max_speed\n",
        "        self.mileage = mileage\n",
        "    def display(self):\n",
        "        return f\"Max speed: {self.max_speed} Mileage: {self.mileage}\"\n",
        "class Bus(Vehicle):\n",
        "  def __init__(self, max_speed, mileage):\n",
        "    super().__init__(max_speed, mileage)\n",
        "\n",
        "speed = int(input(\"Enter max speed: \"))\n",
        "mileage = int(input(\"Enter mileage: \"))\n",
        "\n",
        "bus = Bus(speed, mileage)\n",
        "print(bus.display())\n"
      ],
      "metadata": {
        "id": "nUvpX3qR2Upg",
        "colab": {
          "base_uri": "https://localhost:8080/"
        },
        "outputId": "7debe670-b23b-4496-e38b-83a665985284"
      },
      "execution_count": 4,
      "outputs": [
        {
          "output_type": "stream",
          "name": "stdout",
          "text": [
            "Enter max speed: 500\n",
            "Enter mileage: 40\n",
            "Max speed: 500 Mileage: 40\n"
          ]
        }
      ]
    },
    {
      "cell_type": "markdown",
      "source": [
        "### Class Inheritance\n",
        "\n",
        "Q14. Create a Bus class that inherits from the Vehicle class. Give the capacity argument of Bus.seating_capacity() a default value of 50.\n",
        "\n",
        "Use the following code for your parent Vehicle class.\n",
        "\n",
        "    class Vehicle:\n",
        "      def __init__(self, name, max_speed, mileage):\n",
        "          self.name = name\n",
        "          self.max_speed = max_speed\n",
        "          self.mileage = mileage\n",
        "\n",
        "      def seating_capacity(self, capacity):\n",
        "          return f\"The seating capacity of a {self.name} is {capacity} passengers\"\n",
        "\n",
        "Expected Output:\n",
        "\n",
        "    The seating capacity of a bus is 50 passengers"
      ],
      "metadata": {
        "id": "fPFfg2Hh2VBe"
      }
    },
    {
      "cell_type": "code",
      "source": [
        "\n",
        "class Vehicle:\n",
        "    def __init__(self, name, max_speed, mileage):\n",
        "        self.name = name\n",
        "        self.max_speed = max_speed\n",
        "        self.mileage = mileage\n",
        "\n",
        "    def seating_capacity(self, capacity):\n",
        "        return f\"The seating capacity of a {self.name} is {capacity} passengers\"\n",
        "\n",
        "class Bus(Vehicle):\n",
        "    def __init__(self, name, max_speed, mileage):\n",
        "        super().__init__(name, max_speed, mileage)\n",
        "\n",
        "    def seating_capacity(self, capacity=50):\n",
        "        return f\"The seating capacity of a {self.name} is {capacity} passengers\"\n",
        "\n",
        "# Example usage\n",
        "name = input(\"Enter name: \")\n",
        "\n",
        "\n",
        "bus = Bus(name, 250, 40)\n",
        "print(bus.seating_capacity())\n",
        "print(bus.seating_capacity(60))\n",
        "\n",
        "\n"
      ],
      "metadata": {
        "id": "TKalMy1B2_Ix",
        "colab": {
          "base_uri": "https://localhost:8080/"
        },
        "outputId": "ceb86ae4-9f93-41ca-ee47-c20556f015b2"
      },
      "execution_count": 9,
      "outputs": [
        {
          "output_type": "stream",
          "name": "stdout",
          "text": [
            "Enter name: bus\n",
            "The seating capacity of a bus is 50 passengers\n",
            "The seating capacity of a bus is 60 passengers\n"
          ]
        }
      ]
    },
    {
      "cell_type": "markdown",
      "source": [
        "Q15. Create a Bus subclass that inherits from the Vehicle class. By default, the fare for any vehicle is calculated as the seating capacity multiplied by 100. For instances of the Bus class, an additional 10% maintenance fee should be applied to the total fare. Therefore, the final fare for a bus instance will be the sum of the total fare plus an additional 10% of that total fare.\n",
        "\n",
        "Note: The bus has a seating capacity of 50, so the final fare amount should be 5500. You need to override the fare() method from the Vehicle class in the Bus class.\n",
        "\n",
        "Use the provided code for the parent Vehicle class. You should access the parent class within a method of the child class.\n",
        "\n",
        "    class Vehicle:\n",
        "      def __init__(self, name, mileage, capacity):\n",
        "        self.name = name\n",
        "        self.mileage = mileage\n",
        "        self.capacity = capacity\n",
        "\n",
        "      def fare(self):\n",
        "        return self.capacity * 100\n",
        "\n",
        "    class Bus(Vehicle):\n",
        "        pass\n",
        "        School_bus = Bus(\"School Volvo\", 12, 50)\n",
        "        print(\"Total Bus fare is:\", School_bus.fare())\n",
        "\n",
        "    Expected Output:\n",
        "\n",
        "    Total Bus fare is: 5500.0"
      ],
      "metadata": {
        "id": "kenJ766m2_jc"
      }
    },
    {
      "cell_type": "code",
      "source": [
        "class Vehicle:\n",
        "    def __init__(self, name, mileage, capacity):\n",
        "        self.name = name\n",
        "        self.mileage = mileage\n",
        "        self.capacity = capacity\n",
        "\n",
        "    def fare(self):\n",
        "        return self.capacity * 100\n",
        "\n",
        "class Bus(Vehicle):\n",
        "    def fare(self):\n",
        "        total_fare = super().fare()\n",
        "        maintenance_fee = total_fare * 0.1\n",
        "        return total_fare + maintenance_fee\n",
        "\n",
        "\n",
        "\n",
        "\n",
        "# Create an instance of Bus\n",
        "School_bus = Bus(\"School Volvo\", 12, 50)\n",
        "\n",
        "# Display the total fare\n",
        "print(\"Total Bus fare is:\", School_bus.fare())\n"
      ],
      "metadata": {
        "id": "jY3Z5SsY_iaQ",
        "colab": {
          "base_uri": "https://localhost:8080/"
        },
        "outputId": "37156d45-830f-4038-9efe-521544251321"
      },
      "execution_count": 6,
      "outputs": [
        {
          "output_type": "stream",
          "name": "stdout",
          "text": [
            "Total Bus fare is: 5500.0\n"
          ]
        }
      ]
    },
    {
      "cell_type": "markdown",
      "source": [
        "### Python JSON Exercise\n",
        "Refer: [Python JSON tutorials](https://pynative.com/python/json/)"
      ],
      "metadata": {
        "id": "3wMvLEkk_nWE"
      }
    },
    {
      "cell_type": "markdown",
      "source": [
        "Q16. Convert the following dictionary into JSON format\n",
        "\n",
        "    data = {\"key1\" : \"value1\", \"key2\" : \"value2\"}\n",
        "    data = {\"key1\" : \"value1\", \"key2\" : \"value2\"}"
      ],
      "metadata": {
        "id": "zVIiuI0PAcuT"
      }
    },
    {
      "cell_type": "code",
      "source": [
        "import json\n",
        "data = {\"key1\" : \"value1\", \"key2\" : \"value2\"}\n",
        "json_data = json.dumps(data, indent=5)\n",
        "print(json_data)"
      ],
      "metadata": {
        "id": "Z5M47OYS_mhA",
        "colab": {
          "base_uri": "https://localhost:8080/"
        },
        "outputId": "d10515f9-feda-4afa-e96a-ec2110060767"
      },
      "execution_count": 7,
      "outputs": [
        {
          "output_type": "stream",
          "name": "stdout",
          "text": [
            "{\n",
            "     \"key1\": \"value1\",\n",
            "     \"key2\": \"value2\"\n",
            "}\n"
          ]
        }
      ]
    },
    {
      "cell_type": "markdown",
      "source": [
        "Q17. Sort JSON keys in and write them into a file\n",
        "\n",
        "    sampleJson = {\"id\" : 1, \"name\" : \"value2\", \"age\" : 29}\n",
        "\n",
        "    {\n",
        "          \"age\": 29,\n",
        "          \"id\": 1,\n",
        "          \"name\": \"value2\"\n",
        "    }"
      ],
      "metadata": {
        "id": "8eE35QccA_X-"
      }
    },
    {
      "cell_type": "code",
      "source": [
        "import json\n",
        "\n",
        "sampleJson = {\"id\": 1, \"name\": \"value2\", \"age\": 29}\n",
        "\n",
        "with open(\"sorted_data1.json\", \"w\") as file:\n",
        "    json.dump(sampleJson, file, sort_keys=True, indent=5)\n"
      ],
      "metadata": {
        "id": "jLG5tk_X_j5O"
      },
      "execution_count": 8,
      "outputs": []
    }
  ]
}